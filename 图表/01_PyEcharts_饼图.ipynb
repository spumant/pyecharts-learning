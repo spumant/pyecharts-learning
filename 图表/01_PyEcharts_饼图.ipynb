{
 "cells": [
  {
   "cell_type": "markdown",
   "id": "2be57bfd",
   "metadata": {},
   "source": [
    "## Faker"
   ]
  },
  {
   "cell_type": "code",
   "execution_count": 4,
   "id": "6c859295",
   "metadata": {
    "ExecuteTime": {
     "end_time": "2023-07-06T14:23:48.694373200Z",
     "start_time": "2023-07-06T14:23:48.681374800Z"
    }
   },
   "outputs": [],
   "source": [
    "# Faker\n",
    "from pyecharts.faker import Faker"
   ]
  },
  {
   "cell_type": "code",
   "execution_count": 37,
   "id": "1233e41d",
   "metadata": {},
   "outputs": [
    {
     "data": {
      "text/plain": [
       "['可乐', '雪碧', '橙汁', '绿茶', '奶茶', '百威', '青岛']"
      ]
     },
     "execution_count": 37,
     "metadata": {},
     "output_type": "execute_result"
    }
   ],
   "source": [
    "# 随机产生同属性的7个名词\n",
    "Faker.choose() "
   ]
  },
  {
   "cell_type": "code",
   "execution_count": 61,
   "id": "d4d321ef",
   "metadata": {},
   "outputs": [
    {
     "data": {
      "text/plain": [
       "[36, 48, 146, 64, 48, 53, 30]"
      ]
     },
     "execution_count": 61,
     "metadata": {},
     "output_type": "execute_result"
    }
   ],
   "source": [
    "Faker.values()  # 随机的7个数"
   ]
  },
  {
   "cell_type": "code",
   "execution_count": 40,
   "id": "bda678b2",
   "metadata": {},
   "outputs": [
    {
     "data": {
      "text/plain": [
       "['宝马', '法拉利', '奔驰', '奥迪', '大众', '丰田', '特斯拉']"
      ]
     },
     "execution_count": 40,
     "metadata": {},
     "output_type": "execute_result"
    }
   ],
   "source": [
    "Faker.cars  # 7个车名"
   ]
  },
  {
   "cell_type": "code",
   "execution_count": 41,
   "id": "bdc881b8",
   "metadata": {},
   "outputs": [
    {
     "data": {
      "text/plain": [
       "['China', 'Canada', 'Brazil', 'Russia', 'United States', 'Africa', 'Germany']"
      ]
     },
     "execution_count": 41,
     "metadata": {},
     "output_type": "execute_result"
    }
   ],
   "source": [
    "Faker.country  # 7个国家"
   ]
  },
  {
   "cell_type": "code",
   "execution_count": 46,
   "id": "99d9e3c9",
   "metadata": {
    "collapsed": true
   },
   "outputs": [
    {
     "data": {
      "text/plain": [
       "['#313695',\n",
       " '#4575b4',\n",
       " '#74add1',\n",
       " '#abd9e9',\n",
       " '#e0f3f8',\n",
       " '#ffffbf',\n",
       " '#fee090',\n",
       " '#fdae61',\n",
       " '#f46d43',\n",
       " '#d73027',\n",
       " '#a50026']"
      ]
     },
     "execution_count": 46,
     "metadata": {},
     "output_type": "execute_result"
    }
   ],
   "source": [
    "Faker.visual_color  # 颜色"
   ]
  },
  {
   "cell_type": "code",
   "execution_count": 47,
   "id": "e9e7bc1e",
   "metadata": {
    "collapsed": true
   },
   "outputs": [
    {
     "data": {
      "text/plain": [
       "['0天',\n",
       " '1天',\n",
       " '2天',\n",
       " '3天',\n",
       " '4天',\n",
       " '5天',\n",
       " '6天',\n",
       " '7天',\n",
       " '8天',\n",
       " '9天',\n",
       " '10天',\n",
       " '11天',\n",
       " '12天',\n",
       " '13天',\n",
       " '14天',\n",
       " '15天',\n",
       " '16天',\n",
       " '17天',\n",
       " '18天',\n",
       " '19天',\n",
       " '20天',\n",
       " '21天',\n",
       " '22天',\n",
       " '23天',\n",
       " '24天',\n",
       " '25天',\n",
       " '26天',\n",
       " '27天',\n",
       " '28天',\n",
       " '29天']"
      ]
     },
     "execution_count": 47,
     "metadata": {},
     "output_type": "execute_result"
    }
   ],
   "source": [
    "Faker.days_attrs"
   ]
  },
  {
   "cell_type": "code",
   "execution_count": 55,
   "id": "f9b41801",
   "metadata": {},
   "outputs": [
    {
     "data": {
      "text/plain": [
       "['汕头市', '汕尾市', '揭阳市', '阳江市', '肇庆市', '广州市', '惠州市']"
      ]
     },
     "execution_count": 55,
     "metadata": {},
     "output_type": "execute_result"
    }
   ],
   "source": [
    "Faker.days_values\n",
    "Faker.clock  # 时钟的列表\n",
    "\n",
    "Faker.animal\n",
    "Faker.dogs\n",
    "Faker.clothes\n",
    "Faker.guangdong_city"
   ]
  },
  {
   "cell_type": "code",
   "execution_count": 56,
   "id": "40317503",
   "metadata": {},
   "outputs": [
    {
     "data": {
      "text/plain": [
       "['周一', '周二', '周三', '周四', '周五', '周六', '周日']"
      ]
     },
     "execution_count": 56,
     "metadata": {},
     "output_type": "execute_result"
    }
   ],
   "source": [
    "Faker.week"
   ]
  },
  {
   "cell_type": "code",
   "execution_count": 57,
   "id": "7ad3b926",
   "metadata": {},
   "outputs": [
    {
     "data": {
      "text/plain": [
       "['Saturday', 'Friday', 'Thursday', 'Wednesday', 'Tuesday', 'Monday', 'Sunday']"
      ]
     },
     "execution_count": 57,
     "metadata": {},
     "output_type": "execute_result"
    }
   ],
   "source": [
    "Faker.week_en"
   ]
  },
  {
   "cell_type": "markdown",
   "id": "4abcdc93",
   "metadata": {},
   "source": [
    "## 饼图"
   ]
  },
  {
   "cell_type": "code",
   "execution_count": 1,
   "id": "a8383bd7",
   "metadata": {
    "ExecuteTime": {
     "end_time": "2023-07-06T14:23:38.164364100Z",
     "start_time": "2023-07-06T14:23:38.060808Z"
    }
   },
   "outputs": [],
   "source": [
    "from pyecharts.charts import Pie\n",
    "import pyecharts.options as opts"
   ]
  },
  {
   "cell_type": "code",
   "execution_count": 5,
   "id": "b14d2963",
   "metadata": {
    "ExecuteTime": {
     "end_time": "2023-07-06T14:23:53.034715100Z",
     "start_time": "2023-07-06T14:23:53.020715700Z"
    }
   },
   "outputs": [
    {
     "data": {
      "text/plain": "['可乐', '雪碧', '橙汁', '绿茶', '奶茶', '百威', '青岛']"
     },
     "execution_count": 5,
     "metadata": {},
     "output_type": "execute_result"
    }
   ],
   "source": [
    "Faker.choose()"
   ]
  },
  {
   "cell_type": "code",
   "execution_count": 6,
   "id": "21a4a531",
   "metadata": {
    "ExecuteTime": {
     "end_time": "2023-07-06T14:23:53.561895700Z",
     "start_time": "2023-07-06T14:23:53.514900600Z"
    }
   },
   "outputs": [
    {
     "data": {
      "text/plain": "[27, 123, 117, 111, 98, 62, 97]"
     },
     "execution_count": 6,
     "metadata": {},
     "output_type": "execute_result"
    }
   ],
   "source": [
    "Faker.values()"
   ]
  },
  {
   "cell_type": "code",
   "execution_count": 7,
   "id": "204e3bbd",
   "metadata": {
    "scrolled": true,
    "ExecuteTime": {
     "end_time": "2023-07-06T14:23:54.864379300Z",
     "start_time": "2023-07-06T14:23:54.848384100Z"
    }
   },
   "outputs": [
    {
     "data": {
      "text/plain": "[('衬衫', 67),\n ('毛衣', 84),\n ('领带', 112),\n ('裤子', 77),\n ('风衣', 53),\n ('高跟鞋', 39),\n ('袜子', 46)]"
     },
     "execution_count": 7,
     "metadata": {},
     "output_type": "execute_result"
    }
   ],
   "source": [
    "list( zip(Faker.choose(), Faker.values()) )"
   ]
  },
  {
   "cell_type": "code",
   "execution_count": 8,
   "id": "33585f64",
   "metadata": {
    "ExecuteTime": {
     "end_time": "2023-07-06T14:23:58.140883Z",
     "start_time": "2023-07-06T14:23:58.127884800Z"
    }
   },
   "outputs": [
    {
     "data": {
      "text/plain": "[['草莓', 122],\n ['芒果', 44],\n ['葡萄', 128],\n ['雪梨', 121],\n ['西瓜', 74],\n ['柠檬', 76],\n ['车厘子', 106]]"
     },
     "execution_count": 8,
     "metadata": {},
     "output_type": "execute_result"
    }
   ],
   "source": [
    "[list(x)  for x in zip(Faker.choose(), Faker.values())]"
   ]
  },
  {
   "cell_type": "code",
   "execution_count": 9,
   "outputs": [],
   "source": [
    "from IPython.display import display,HTML"
   ],
   "metadata": {
    "collapsed": false,
    "ExecuteTime": {
     "end_time": "2023-07-06T14:24:31.967873700Z",
     "start_time": "2023-07-06T14:24:31.946875100Z"
    }
   }
  },
  {
   "cell_type": "code",
   "execution_count": 13,
   "id": "92988e25",
   "metadata": {
    "scrolled": false,
    "ExecuteTime": {
     "end_time": "2023-07-06T14:25:48.530254100Z",
     "start_time": "2023-07-06T14:25:48.483256800Z"
    }
   },
   "outputs": [
    {
     "data": {
      "text/plain": "<IPython.core.display.HTML object>",
      "text/html": "<!DOCTYPE html>\n<html>\n<head>\n    <meta charset=\"UTF-8\">\n    <title>Awesome-pyecharts</title>\n                <script type=\"text/javascript\" src=\"https://assets.pyecharts.org/assets/v5/echarts.min.js\"></script>\n\n</head>\n<body >\n    <div id=\"8184336342a84f788000df380a9c841c\" class=\"chart-container\" style=\"width:900px; height:500px; \"></div>\n    <script>\n        var chart_8184336342a84f788000df380a9c841c = echarts.init(\n            document.getElementById('8184336342a84f788000df380a9c841c'), 'white', {renderer: 'canvas'});\n        var option_8184336342a84f788000df380a9c841c = {\n    \"animation\": true,\n    \"animationThreshold\": 2000,\n    \"animationDuration\": 1000,\n    \"animationEasing\": \"cubicOut\",\n    \"animationDelay\": 0,\n    \"animationDurationUpdate\": 300,\n    \"animationEasingUpdate\": \"cubicOut\",\n    \"animationDelayUpdate\": 0,\n    \"aria\": {\n        \"enabled\": false\n    },\n    \"color\": [\n        \"#5470c6\",\n        \"#91cc75\",\n        \"#fac858\",\n        \"#ee6666\",\n        \"#73c0de\",\n        \"#3ba272\",\n        \"#fc8452\",\n        \"#9a60b4\",\n        \"#ea7ccc\"\n    ],\n    \"series\": [\n        {\n            \"type\": \"pie\",\n            \"colorBy\": \"data\",\n            \"legendHoverLink\": true,\n            \"selectedMode\": false,\n            \"selectedOffset\": 10,\n            \"clockwise\": true,\n            \"startAngle\": 90,\n            \"minAngle\": 0,\n            \"minShowLabelAngle\": 0,\n            \"avoidLabelOverlap\": true,\n            \"stillShowZeroSum\": true,\n            \"percentPrecision\": 2,\n            \"showEmptyCircle\": true,\n            \"emptyCircleStyle\": {\n                \"color\": \"lightgray\",\n                \"borderColor\": \"#000\",\n                \"borderWidth\": 0,\n                \"borderType\": \"solid\",\n                \"borderDashOffset\": 0,\n                \"borderCap\": \"butt\",\n                \"borderJoin\": \"bevel\",\n                \"borderMiterLimit\": 10,\n                \"opacity\": 1\n            },\n            \"data\": [\n                {\n                    \"name\": \"\\u54c8\\u58eb\\u5947\",\n                    \"value\": 122\n                },\n                {\n                    \"name\": \"\\u8428\\u6469\\u8036\",\n                    \"value\": 85\n                },\n                {\n                    \"name\": \"\\u6cf0\\u8fea\",\n                    \"value\": 93\n                },\n                {\n                    \"name\": \"\\u91d1\\u6bdb\",\n                    \"value\": 26\n                },\n                {\n                    \"name\": \"\\u7267\\u7f8a\\u72ac\",\n                    \"value\": 106\n                },\n                {\n                    \"name\": \"\\u5409\\u5a03\\u5a03\",\n                    \"value\": 120\n                },\n                {\n                    \"name\": \"\\u67ef\\u57fa\",\n                    \"value\": 65\n                }\n            ],\n            \"radius\": [\n                \"0%\",\n                \"75%\"\n            ],\n            \"center\": [\n                \"50%\",\n                \"50%\"\n            ],\n            \"label\": {\n                \"show\": true,\n                \"margin\": 8\n            },\n            \"labelLine\": {\n                \"show\": true,\n                \"showAbove\": false,\n                \"length\": 15,\n                \"length2\": 15,\n                \"smooth\": false,\n                \"minTurnAngle\": 90,\n                \"maxSurfaceAngle\": 90\n            }\n        }\n    ],\n    \"legend\": [\n        {\n            \"data\": [\n                \"\\u54c8\\u58eb\\u5947\",\n                \"\\u8428\\u6469\\u8036\",\n                \"\\u6cf0\\u8fea\",\n                \"\\u91d1\\u6bdb\",\n                \"\\u7267\\u7f8a\\u72ac\",\n                \"\\u5409\\u5a03\\u5a03\",\n                \"\\u67ef\\u57fa\"\n            ],\n            \"selected\": {}\n        }\n    ],\n    \"tooltip\": {\n        \"show\": true,\n        \"trigger\": \"item\",\n        \"triggerOn\": \"mousemove|click\",\n        \"axisPointer\": {\n            \"type\": \"line\"\n        },\n        \"showContent\": true,\n        \"alwaysShowContent\": false,\n        \"showDelay\": 0,\n        \"hideDelay\": 100,\n        \"enterable\": false,\n        \"confine\": false,\n        \"appendToBody\": false,\n        \"transitionDuration\": 0.4,\n        \"textStyle\": {\n            \"fontSize\": 14\n        },\n        \"borderWidth\": 0,\n        \"padding\": 5,\n        \"order\": \"seriesAsc\"\n    }\n};\n        chart_8184336342a84f788000df380a9c841c.setOption(option_8184336342a84f788000df380a9c841c);\n    </script>\n</body>\n</html>\n"
     },
     "metadata": {},
     "output_type": "display_data"
    }
   ],
   "source": [
    "c = Pie()\n",
    "c.add('', [list(x)  for x in zip(Faker.choose(), Faker.values())])\n",
    "display(HTML(c.render()))"
   ]
  },
  {
   "cell_type": "code",
   "execution_count": 14,
   "id": "8bc9c28c",
   "metadata": {
    "ExecuteTime": {
     "end_time": "2023-07-06T14:26:07.134846300Z",
     "start_time": "2023-07-06T14:26:07.123848400Z"
    }
   },
   "outputs": [
    {
     "data": {
      "text/plain": "<IPython.core.display.HTML object>",
      "text/html": "<!DOCTYPE html>\n<html>\n<head>\n    <meta charset=\"UTF-8\">\n    <title>Awesome-pyecharts</title>\n                <script type=\"text/javascript\" src=\"https://assets.pyecharts.org/assets/v5/echarts.min.js\"></script>\n\n</head>\n<body >\n    <div id=\"d32c52b67da94f9dbacf709e9ba90387\" class=\"chart-container\" style=\"width:900px; height:500px; \"></div>\n    <script>\n        var chart_d32c52b67da94f9dbacf709e9ba90387 = echarts.init(\n            document.getElementById('d32c52b67da94f9dbacf709e9ba90387'), 'white', {renderer: 'canvas'});\n        var option_d32c52b67da94f9dbacf709e9ba90387 = {\n    \"animation\": true,\n    \"animationThreshold\": 2000,\n    \"animationDuration\": 1000,\n    \"animationEasing\": \"cubicOut\",\n    \"animationDelay\": 0,\n    \"animationDurationUpdate\": 300,\n    \"animationEasingUpdate\": \"cubicOut\",\n    \"animationDelayUpdate\": 0,\n    \"aria\": {\n        \"enabled\": false\n    },\n    \"color\": [\n        \"red\",\n        \"blue\",\n        \"green\",\n        \"orange\",\n        \"yellow\",\n        \"pink\",\n        \"black\"\n    ],\n    \"series\": [\n        {\n            \"type\": \"pie\",\n            \"colorBy\": \"data\",\n            \"legendHoverLink\": true,\n            \"selectedMode\": false,\n            \"selectedOffset\": 10,\n            \"clockwise\": true,\n            \"startAngle\": 90,\n            \"minAngle\": 0,\n            \"minShowLabelAngle\": 0,\n            \"avoidLabelOverlap\": true,\n            \"stillShowZeroSum\": true,\n            \"percentPrecision\": 2,\n            \"showEmptyCircle\": true,\n            \"emptyCircleStyle\": {\n                \"color\": \"lightgray\",\n                \"borderColor\": \"#000\",\n                \"borderWidth\": 0,\n                \"borderType\": \"solid\",\n                \"borderDashOffset\": 0,\n                \"borderCap\": \"butt\",\n                \"borderJoin\": \"bevel\",\n                \"borderMiterLimit\": 10,\n                \"opacity\": 1\n            },\n            \"data\": [\n                {\n                    \"name\": \"\\u53ef\\u4e50\",\n                    \"value\": 45\n                },\n                {\n                    \"name\": \"\\u96ea\\u78a7\",\n                    \"value\": 87\n                },\n                {\n                    \"name\": \"\\u6a59\\u6c41\",\n                    \"value\": 109\n                },\n                {\n                    \"name\": \"\\u7eff\\u8336\",\n                    \"value\": 71\n                },\n                {\n                    \"name\": \"\\u5976\\u8336\",\n                    \"value\": 53\n                },\n                {\n                    \"name\": \"\\u767e\\u5a01\",\n                    \"value\": 79\n                },\n                {\n                    \"name\": \"\\u9752\\u5c9b\",\n                    \"value\": 95\n                }\n            ],\n            \"radius\": [\n                \"0%\",\n                \"75%\"\n            ],\n            \"center\": [\n                \"50%\",\n                \"50%\"\n            ],\n            \"label\": {\n                \"show\": true,\n                \"margin\": 8,\n                \"formatter\": \"{b}:{c}\"\n            },\n            \"labelLine\": {\n                \"show\": true,\n                \"showAbove\": false,\n                \"length\": 15,\n                \"length2\": 15,\n                \"smooth\": false,\n                \"minTurnAngle\": 90,\n                \"maxSurfaceAngle\": 90\n            },\n            \"rippleEffect\": {\n                \"show\": true,\n                \"brushType\": \"stroke\",\n                \"scale\": 2.5,\n                \"period\": 4\n            }\n        }\n    ],\n    \"legend\": [\n        {\n            \"data\": [\n                \"\\u53ef\\u4e50\",\n                \"\\u96ea\\u78a7\",\n                \"\\u6a59\\u6c41\",\n                \"\\u7eff\\u8336\",\n                \"\\u5976\\u8336\",\n                \"\\u767e\\u5a01\",\n                \"\\u9752\\u5c9b\"\n            ],\n            \"selected\": {},\n            \"type\": \"scroll\",\n            \"show\": true,\n            \"left\": \"80%\",\n            \"orient\": \"vertical\",\n            \"padding\": 5,\n            \"itemGap\": 10,\n            \"itemWidth\": 25,\n            \"itemHeight\": 14,\n            \"backgroundColor\": \"transparent\",\n            \"borderColor\": \"#ccc\",\n            \"borderWidth\": 1,\n            \"borderRadius\": 0,\n            \"pageButtonItemGap\": 5,\n            \"pageButtonPosition\": \"end\",\n            \"pageFormatter\": \"{current}/{total}\",\n            \"pageIconColor\": \"#2f4554\",\n            \"pageIconInactiveColor\": \"#aaa\",\n            \"pageIconSize\": 15,\n            \"animationDurationUpdate\": 800,\n            \"selector\": false,\n            \"selectorPosition\": \"auto\",\n            \"selectorItemGap\": 7,\n            \"selectorButtonGap\": 10\n        }\n    ],\n    \"tooltip\": {\n        \"show\": true,\n        \"trigger\": \"item\",\n        \"triggerOn\": \"mousemove|click\",\n        \"axisPointer\": {\n            \"type\": \"line\"\n        },\n        \"showContent\": true,\n        \"alwaysShowContent\": false,\n        \"showDelay\": 0,\n        \"hideDelay\": 100,\n        \"enterable\": false,\n        \"confine\": false,\n        \"appendToBody\": false,\n        \"transitionDuration\": 0.4,\n        \"textStyle\": {\n            \"fontSize\": 14\n        },\n        \"borderWidth\": 0,\n        \"padding\": 5,\n        \"order\": \"seriesAsc\"\n    },\n    \"title\": [\n        {\n            \"show\": true,\n            \"text\": \"\\u8bbe\\u7f6e\\u989c\\u8272\",\n            \"target\": \"blank\",\n            \"subtarget\": \"blank\",\n            \"padding\": 5,\n            \"itemGap\": 10,\n            \"textAlign\": \"auto\",\n            \"textVerticalAlign\": \"auto\",\n            \"triggerEvent\": false\n        }\n    ]\n};\n        chart_d32c52b67da94f9dbacf709e9ba90387.setOption(option_d32c52b67da94f9dbacf709e9ba90387);\n    </script>\n</body>\n</html>\n"
     },
     "metadata": {},
     "output_type": "display_data"
    }
   ],
   "source": [
    "c = (\n",
    "    Pie()\n",
    "    .add('', [list(x)  for x in zip(Faker.choose(), Faker.values())])\n",
    "    .set_colors(['red', 'blue', 'green', 'orange', 'yellow', 'pink', 'black'])\n",
    "    .set_global_opts(\n",
    "        title_opts=opts.TitleOpts(title='设置颜色'),\n",
    "        legend_opts=opts.LegendOpts(type_='scroll', pos_left=\"80%\", orient='vertical')\n",
    "    )\n",
    "    .set_series_opts(label_opts=opts.LabelOpts(formatter=\"{b}:{c}\"))\n",
    ")\n",
    "display(HTML(c.render()))"
   ]
  },
  {
   "cell_type": "markdown",
   "id": "148354cb",
   "metadata": {},
   "source": [
    "### 玫瑰图"
   ]
  },
  {
   "cell_type": "code",
   "execution_count": 15,
   "id": "31cba8ff",
   "metadata": {
    "ExecuteTime": {
     "end_time": "2023-07-06T14:27:01.017845500Z",
     "start_time": "2023-07-06T14:27:00.997844200Z"
    }
   },
   "outputs": [
    {
     "data": {
      "text/plain": "['周一', '周二', '周三', '周四', '周五', '周六', '周日']"
     },
     "execution_count": 15,
     "metadata": {},
     "output_type": "execute_result"
    }
   ],
   "source": [
    "v = Faker.choose()\n",
    "v"
   ]
  },
  {
   "cell_type": "code",
   "execution_count": 16,
   "id": "a22fe688",
   "metadata": {
    "ExecuteTime": {
     "end_time": "2023-07-06T14:27:01.552472100Z",
     "start_time": "2023-07-06T14:27:01.539471900Z"
    }
   },
   "outputs": [
    {
     "data": {
      "text/plain": "[['周一', 120],\n ['周二', 138],\n ['周三', 53],\n ['周四', 89],\n ['周五', 138],\n ['周六', 136],\n ['周日', 120]]"
     },
     "execution_count": 16,
     "metadata": {},
     "output_type": "execute_result"
    }
   ],
   "source": [
    "[list(i) for i in zip(v, Faker.values())]"
   ]
  },
  {
   "cell_type": "code",
   "execution_count": 20,
   "id": "1e73a5ce",
   "metadata": {
    "ExecuteTime": {
     "end_time": "2023-07-06T14:53:52.854907800Z",
     "start_time": "2023-07-06T14:53:52.829909100Z"
    }
   },
   "outputs": [
    {
     "data": {
      "text/plain": "<IPython.core.display.HTML object>",
      "text/html": "<!DOCTYPE html>\n<html>\n<head>\n    <meta charset=\"UTF-8\">\n    <title>Awesome-pyecharts</title>\n                <script type=\"text/javascript\" src=\"https://assets.pyecharts.org/assets/v5/echarts.min.js\"></script>\n\n</head>\n<body >\n    <div id=\"6b2d81659035455e84addaef70498f7d\" class=\"chart-container\" style=\"width:900px; height:500px; \"></div>\n    <script>\n        var chart_6b2d81659035455e84addaef70498f7d = echarts.init(\n            document.getElementById('6b2d81659035455e84addaef70498f7d'), 'white', {renderer: 'canvas'});\n        var option_6b2d81659035455e84addaef70498f7d = {\n    \"animation\": true,\n    \"animationThreshold\": 2000,\n    \"animationDuration\": 1000,\n    \"animationEasing\": \"cubicOut\",\n    \"animationDelay\": 0,\n    \"animationDurationUpdate\": 300,\n    \"animationEasingUpdate\": \"cubicOut\",\n    \"animationDelayUpdate\": 0,\n    \"aria\": {\n        \"enabled\": false\n    },\n    \"color\": [\n        \"#5470c6\",\n        \"#91cc75\",\n        \"#fac858\",\n        \"#ee6666\",\n        \"#73c0de\",\n        \"#3ba272\",\n        \"#fc8452\",\n        \"#9a60b4\",\n        \"#ea7ccc\"\n    ],\n    \"series\": [\n        {\n            \"type\": \"pie\",\n            \"colorBy\": \"data\",\n            \"legendHoverLink\": true,\n            \"selectedMode\": false,\n            \"selectedOffset\": 10,\n            \"clockwise\": true,\n            \"startAngle\": 90,\n            \"minAngle\": 0,\n            \"minShowLabelAngle\": 0,\n            \"avoidLabelOverlap\": true,\n            \"stillShowZeroSum\": true,\n            \"percentPrecision\": 2,\n            \"showEmptyCircle\": true,\n            \"emptyCircleStyle\": {\n                \"color\": \"lightgray\",\n                \"borderColor\": \"#000\",\n                \"borderWidth\": 0,\n                \"borderType\": \"solid\",\n                \"borderDashOffset\": 0,\n                \"borderCap\": \"butt\",\n                \"borderJoin\": \"bevel\",\n                \"borderMiterLimit\": 10,\n                \"opacity\": 1\n            },\n            \"data\": [\n                {\n                    \"name\": \"\\u5468\\u4e00\",\n                    \"value\": 23\n                },\n                {\n                    \"name\": \"\\u5468\\u4e8c\",\n                    \"value\": 143\n                },\n                {\n                    \"name\": \"\\u5468\\u4e09\",\n                    \"value\": 34\n                },\n                {\n                    \"name\": \"\\u5468\\u56db\",\n                    \"value\": 39\n                },\n                {\n                    \"name\": \"\\u5468\\u4e94\",\n                    \"value\": 111\n                },\n                {\n                    \"name\": \"\\u5468\\u516d\",\n                    \"value\": 63\n                },\n                {\n                    \"name\": \"\\u5468\\u65e5\",\n                    \"value\": 38\n                }\n            ],\n            \"radius\": [\n                \"30%\",\n                \"75%\"\n            ],\n            \"center\": [\n                \"25%\",\n                \"50%\"\n            ],\n            \"roseType\": \"radius\",\n            \"label\": {\n                \"show\": false,\n                \"margin\": 8\n            },\n            \"labelLine\": {\n                \"show\": true,\n                \"showAbove\": false,\n                \"length\": 15,\n                \"length2\": 15,\n                \"smooth\": false,\n                \"minTurnAngle\": 90,\n                \"maxSurfaceAngle\": 90\n            }\n        },\n        {\n            \"type\": \"pie\",\n            \"colorBy\": \"data\",\n            \"legendHoverLink\": true,\n            \"selectedMode\": false,\n            \"selectedOffset\": 10,\n            \"clockwise\": true,\n            \"startAngle\": 90,\n            \"minAngle\": 0,\n            \"minShowLabelAngle\": 0,\n            \"avoidLabelOverlap\": true,\n            \"stillShowZeroSum\": true,\n            \"percentPrecision\": 2,\n            \"showEmptyCircle\": true,\n            \"emptyCircleStyle\": {\n                \"color\": \"lightgray\",\n                \"borderColor\": \"#000\",\n                \"borderWidth\": 0,\n                \"borderType\": \"solid\",\n                \"borderDashOffset\": 0,\n                \"borderCap\": \"butt\",\n                \"borderJoin\": \"bevel\",\n                \"borderMiterLimit\": 10,\n                \"opacity\": 1\n            },\n            \"data\": [\n                {\n                    \"name\": \"\\u5468\\u4e00\",\n                    \"value\": 107\n                },\n                {\n                    \"name\": \"\\u5468\\u4e8c\",\n                    \"value\": 110\n                },\n                {\n                    \"name\": \"\\u5468\\u4e09\",\n                    \"value\": 33\n                },\n                {\n                    \"name\": \"\\u5468\\u56db\",\n                    \"value\": 30\n                },\n                {\n                    \"name\": \"\\u5468\\u4e94\",\n                    \"value\": 52\n                },\n                {\n                    \"name\": \"\\u5468\\u516d\",\n                    \"value\": 87\n                },\n                {\n                    \"name\": \"\\u5468\\u65e5\",\n                    \"value\": 78\n                }\n            ],\n            \"radius\": [\n                \"20%\",\n                \"55%\"\n            ],\n            \"center\": [\n                \"75%\",\n                \"50%\"\n            ],\n            \"roseType\": \"area\",\n            \"label\": {\n                \"show\": true,\n                \"margin\": 8\n            },\n            \"labelLine\": {\n                \"show\": true,\n                \"showAbove\": false,\n                \"length\": 15,\n                \"length2\": 15,\n                \"smooth\": false,\n                \"minTurnAngle\": 90,\n                \"maxSurfaceAngle\": 90\n            }\n        }\n    ],\n    \"legend\": [\n        {\n            \"data\": [\n                \"\\u5468\\u4e00\",\n                \"\\u5468\\u4e8c\",\n                \"\\u5468\\u4e09\",\n                \"\\u5468\\u56db\",\n                \"\\u5468\\u4e94\",\n                \"\\u5468\\u516d\",\n                \"\\u5468\\u65e5\"\n            ],\n            \"selected\": {},\n            \"show\": true,\n            \"padding\": 5,\n            \"itemGap\": 10,\n            \"itemWidth\": 25,\n            \"itemHeight\": 14,\n            \"backgroundColor\": \"transparent\",\n            \"borderColor\": \"#ccc\",\n            \"borderWidth\": 1,\n            \"borderRadius\": 0,\n            \"pageButtonItemGap\": 5,\n            \"pageButtonPosition\": \"end\",\n            \"pageFormatter\": \"{current}/{total}\",\n            \"pageIconColor\": \"#2f4554\",\n            \"pageIconInactiveColor\": \"#aaa\",\n            \"pageIconSize\": 15,\n            \"animationDurationUpdate\": 800,\n            \"selector\": false,\n            \"selectorPosition\": \"auto\",\n            \"selectorItemGap\": 7,\n            \"selectorButtonGap\": 10\n        }\n    ],\n    \"tooltip\": {\n        \"show\": true,\n        \"trigger\": \"item\",\n        \"triggerOn\": \"mousemove|click\",\n        \"axisPointer\": {\n            \"type\": \"line\"\n        },\n        \"showContent\": true,\n        \"alwaysShowContent\": false,\n        \"showDelay\": 0,\n        \"hideDelay\": 100,\n        \"enterable\": false,\n        \"confine\": false,\n        \"appendToBody\": false,\n        \"transitionDuration\": 0.4,\n        \"textStyle\": {\n            \"fontSize\": 14\n        },\n        \"borderWidth\": 0,\n        \"padding\": 5,\n        \"order\": \"seriesAsc\"\n    },\n    \"title\": [\n        {\n            \"show\": true,\n            \"text\": \"\\u73ab\\u7470\\u56fe\",\n            \"target\": \"blank\",\n            \"subtarget\": \"blank\",\n            \"padding\": 5,\n            \"itemGap\": 10,\n            \"textAlign\": \"auto\",\n            \"textVerticalAlign\": \"auto\",\n            \"triggerEvent\": false\n        }\n    ]\n};\n        chart_6b2d81659035455e84addaef70498f7d.setOption(option_6b2d81659035455e84addaef70498f7d);\n    </script>\n</body>\n</html>\n"
     },
     "metadata": {},
     "output_type": "display_data"
    }
   ],
   "source": [
    "c = (\n",
    "    Pie()\n",
    "    .add(\n",
    "        '',\n",
    "        [list(i) for i in zip(v, Faker.values())],\n",
    "        radius=['30%', '75%'],\n",
    "        center=['25%', '50%'],\n",
    "        rosetype='radius',\n",
    "        label_opts=opts.LabelOpts(is_show=False)  # 不显示标签\n",
    "    )\n",
    "    .add(\n",
    "        '',\n",
    "        [list(i) for i in zip(v, Faker.values())],\n",
    "        radius=['20%', '55%'],\n",
    "        center=['75%', '50%'],\n",
    "        rosetype='area',\n",
    "        label_opts=opts.LabelOpts(is_show=True)  # 显示标签\n",
    "    )\n",
    "    .set_global_opts(title_opts=opts.TitleOpts(title='玫瑰图'))\n",
    ")\n",
    "display(HTML(c.render()))"
   ]
  },
  {
   "cell_type": "code",
   "execution_count": null,
   "outputs": [],
   "source": [],
   "metadata": {
    "collapsed": false
   }
  }
 ],
 "metadata": {
  "kernelspec": {
   "name": "math",
   "language": "python",
   "display_name": "math"
  },
  "language_info": {
   "codemirror_mode": {
    "name": "ipython",
    "version": 3
   },
   "file_extension": ".py",
   "mimetype": "text/x-python",
   "name": "python",
   "nbconvert_exporter": "python",
   "pygments_lexer": "ipython3",
   "version": "3.9.13"
  }
 },
 "nbformat": 4,
 "nbformat_minor": 5
}
