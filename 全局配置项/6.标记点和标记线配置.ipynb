{
 "cells": [
  {
   "cell_type": "code",
   "execution_count": 1,
   "metadata": {
    "collapsed": true,
    "ExecuteTime": {
     "end_time": "2023-07-06T13:08:48.280520300Z",
     "start_time": "2023-07-06T13:08:48.066524300Z"
    }
   },
   "outputs": [],
   "source": [
    "from pyecharts.charts import Bar, Line\n",
    "from pyecharts import options as opts\n",
    "from pyecharts.faker import Faker\n",
    "from pyecharts.globals import ThemeType, RenderType\n",
    "from IPython.display import display, HTML\n",
    "from pyecharts.render import make_snapshot\n",
    "from snapshot_selenium import snapshot"
   ]
  },
  {
   "cell_type": "code",
   "execution_count": 6,
   "outputs": [
    {
     "data": {
      "text/plain": "<IPython.core.display.HTML object>",
      "text/html": "<!DOCTYPE html>\n<html>\n<head>\n    <meta charset=\"UTF-8\">\n    <title>网页标题</title>\n                <script type=\"text/javascript\" src=\"https://assets.pyecharts.org/assets/v5/echarts.min.js\"></script>\n\n</head>\n<body >\n    <div id=\"4f6f7e4d5ed8417f94f202b616c40253\" class=\"chart-container\" style=\"width:700px; height:400px; \"></div>\n    <script>\n        var chart_4f6f7e4d5ed8417f94f202b616c40253 = echarts.init(\n            document.getElementById('4f6f7e4d5ed8417f94f202b616c40253'), 'light', {renderer: 'canvas'});\n        var option_4f6f7e4d5ed8417f94f202b616c40253 = {\n    \"backgroundColor\": \"white\",\n    \"animation\": true,\n    \"animationThreshold\": 2000,\n    \"animationDuration\": 1000,\n    \"animationEasing\": \"cubicOut\",\n    \"animationDelay\": 0,\n    \"animationDurationUpdate\": 300,\n    \"animationEasingUpdate\": \"cubicOut\",\n    \"animationDelayUpdate\": 0,\n    \"aria\": {\n        \"enabled\": false\n    },\n    \"series\": [\n        {\n            \"type\": \"line\",\n            \"name\": \"\\u5546\\u5bb6A\",\n            \"connectNulls\": false,\n            \"xAxisIndex\": 0,\n            \"symbolSize\": 4,\n            \"showSymbol\": true,\n            \"smooth\": false,\n            \"clip\": true,\n            \"step\": false,\n            \"data\": [\n                [\n                    \"\\u54c8\\u58eb\\u5947\",\n                    132\n                ],\n                [\n                    \"\\u8428\\u6469\\u8036\",\n                    54\n                ],\n                [\n                    \"\\u6cf0\\u8fea\",\n                    35\n                ],\n                [\n                    \"\\u91d1\\u6bdb\",\n                    45\n                ],\n                [\n                    \"\\u7267\\u7f8a\\u72ac\",\n                    123\n                ],\n                [\n                    \"\\u5409\\u5a03\\u5a03\",\n                    80\n                ],\n                [\n                    \"\\u67ef\\u57fa\",\n                    86\n                ]\n            ],\n            \"hoverAnimation\": true,\n            \"label\": {\n                \"show\": true,\n                \"margin\": 8\n            },\n            \"logBase\": 10,\n            \"seriesLayoutBy\": \"column\",\n            \"lineStyle\": {\n                \"show\": true,\n                \"width\": 1,\n                \"opacity\": 1,\n                \"curveness\": 0,\n                \"type\": \"solid\"\n            },\n            \"areaStyle\": {\n                \"opacity\": 0\n            },\n            \"markPoint\": {\n                \"label\": {\n                    \"show\": true,\n                    \"position\": \"inside\",\n                    \"color\": \"#fff\",\n                    \"margin\": 8\n                },\n                \"data\": [\n                    {\n                        \"type\": \"max\",\n                        \"symbol\": \"pin\",\n                        \"symbolSize\": 50\n                    }\n                ]\n            },\n            \"markLine\": {\n                \"silent\": false,\n                \"precision\": 2,\n                \"label\": {\n                    \"show\": true,\n                    \"color\": \"red\",\n                    \"margin\": 8\n                },\n                \"data\": [\n                    {\n                        \"name\": \"\\u5e73\\u5747\\u503c\",\n                        \"type\": \"average\"\n                    }\n                ]\n            },\n            \"zlevel\": 0,\n            \"z\": 0,\n            \"rippleEffect\": {\n                \"show\": true,\n                \"brushType\": \"stroke\",\n                \"scale\": 2.5,\n                \"period\": 4\n            }\n        },\n        {\n            \"type\": \"line\",\n            \"name\": \"\\u5546\\u5bb6B\",\n            \"connectNulls\": false,\n            \"xAxisIndex\": 0,\n            \"symbolSize\": 4,\n            \"showSymbol\": true,\n            \"smooth\": false,\n            \"clip\": true,\n            \"step\": false,\n            \"data\": [\n                [\n                    \"\\u54c8\\u58eb\\u5947\",\n                    53\n                ],\n                [\n                    \"\\u8428\\u6469\\u8036\",\n                    22\n                ],\n                [\n                    \"\\u6cf0\\u8fea\",\n                    119\n                ],\n                [\n                    \"\\u91d1\\u6bdb\",\n                    28\n                ],\n                [\n                    \"\\u7267\\u7f8a\\u72ac\",\n                    94\n                ],\n                [\n                    \"\\u5409\\u5a03\\u5a03\",\n                    125\n                ],\n                [\n                    \"\\u67ef\\u57fa\",\n                    34\n                ]\n            ],\n            \"hoverAnimation\": true,\n            \"label\": {\n                \"show\": true,\n                \"margin\": 8\n            },\n            \"logBase\": 10,\n            \"seriesLayoutBy\": \"column\",\n            \"lineStyle\": {\n                \"show\": true,\n                \"width\": 1,\n                \"opacity\": 1,\n                \"curveness\": 0,\n                \"type\": \"solid\"\n            },\n            \"areaStyle\": {\n                \"opacity\": 0\n            },\n            \"markPoint\": {\n                \"label\": {\n                    \"show\": true,\n                    \"position\": \"inside\",\n                    \"color\": \"#fff\",\n                    \"margin\": 8\n                },\n                \"data\": [\n                    {\n                        \"type\": \"max\",\n                        \"symbol\": \"pin\",\n                        \"symbolSize\": 50\n                    }\n                ]\n            },\n            \"markLine\": {\n                \"silent\": false,\n                \"precision\": 2,\n                \"label\": {\n                    \"show\": true,\n                    \"color\": \"red\",\n                    \"margin\": 8\n                },\n                \"data\": [\n                    {\n                        \"name\": \"\\u5e73\\u5747\\u503c\",\n                        \"type\": \"average\"\n                    }\n                ]\n            },\n            \"zlevel\": 0,\n            \"z\": 0,\n            \"rippleEffect\": {\n                \"show\": true,\n                \"brushType\": \"stroke\",\n                \"scale\": 2.5,\n                \"period\": 4\n            }\n        }\n    ],\n    \"legend\": [\n        {\n            \"data\": [\n                \"\\u5546\\u5bb6A\",\n                \"\\u5546\\u5bb6B\"\n            ],\n            \"selected\": {},\n            \"show\": true,\n            \"padding\": 5,\n            \"itemGap\": 10,\n            \"itemWidth\": 25,\n            \"itemHeight\": 14,\n            \"backgroundColor\": \"transparent\",\n            \"borderColor\": \"#ccc\",\n            \"borderWidth\": 1,\n            \"borderRadius\": 0,\n            \"pageButtonItemGap\": 5,\n            \"pageButtonPosition\": \"end\",\n            \"pageFormatter\": \"{current}/{total}\",\n            \"pageIconColor\": \"#2f4554\",\n            \"pageIconInactiveColor\": \"#aaa\",\n            \"pageIconSize\": 15,\n            \"animationDurationUpdate\": 800,\n            \"selector\": false,\n            \"selectorPosition\": \"auto\",\n            \"selectorItemGap\": 7,\n            \"selectorButtonGap\": 10\n        }\n    ],\n    \"tooltip\": {\n        \"show\": true,\n        \"trigger\": \"axis\",\n        \"triggerOn\": \"mousemove|click\",\n        \"axisPointer\": {\n            \"type\": \"line\"\n        },\n        \"showContent\": true,\n        \"alwaysShowContent\": false,\n        \"showDelay\": 0,\n        \"hideDelay\": 100,\n        \"enterable\": false,\n        \"confine\": false,\n        \"appendToBody\": false,\n        \"transitionDuration\": 0.4,\n        \"textStyle\": {\n            \"fontSize\": 14\n        },\n        \"borderWidth\": 0,\n        \"padding\": 5,\n        \"order\": \"seriesAsc\"\n    },\n    \"xAxis\": [\n        {\n            \"show\": true,\n            \"scale\": false,\n            \"nameLocation\": \"end\",\n            \"nameGap\": 15,\n            \"gridIndex\": 0,\n            \"inverse\": false,\n            \"offset\": 0,\n            \"splitNumber\": 5,\n            \"minInterval\": 0,\n            \"splitLine\": {\n                \"show\": true,\n                \"lineStyle\": {\n                    \"show\": true,\n                    \"width\": 1,\n                    \"opacity\": 1,\n                    \"curveness\": 0,\n                    \"type\": \"solid\"\n                }\n            },\n            \"data\": [\n                \"\\u54c8\\u58eb\\u5947\",\n                \"\\u8428\\u6469\\u8036\",\n                \"\\u6cf0\\u8fea\",\n                \"\\u91d1\\u6bdb\",\n                \"\\u7267\\u7f8a\\u72ac\",\n                \"\\u5409\\u5a03\\u5a03\",\n                \"\\u67ef\\u57fa\"\n            ]\n        }\n    ],\n    \"yAxis\": [\n        {\n            \"show\": true,\n            \"scale\": false,\n            \"nameLocation\": \"end\",\n            \"nameGap\": 15,\n            \"gridIndex\": 0,\n            \"inverse\": false,\n            \"offset\": 0,\n            \"splitNumber\": 5,\n            \"minInterval\": 0,\n            \"splitLine\": {\n                \"show\": true,\n                \"lineStyle\": {\n                    \"show\": true,\n                    \"width\": 1,\n                    \"opacity\": 1,\n                    \"curveness\": 0,\n                    \"type\": \"solid\"\n                }\n            }\n        }\n    ],\n    \"title\": [\n        {\n            \"show\": true,\n            \"text\": \"\\u6298\\u7ebf\\u56fe\",\n            \"target\": \"blank\",\n            \"subtarget\": \"blank\",\n            \"padding\": 5,\n            \"itemGap\": 10,\n            \"textAlign\": \"auto\",\n            \"textVerticalAlign\": \"auto\",\n            \"triggerEvent\": false\n        }\n    ]\n};\n        chart_4f6f7e4d5ed8417f94f202b616c40253.setOption(option_4f6f7e4d5ed8417f94f202b616c40253);\n    </script>\n</body>\n</html>\n"
     },
     "metadata": {},
     "output_type": "display_data"
    }
   ],
   "source": [
    "c = (\n",
    "    Line(\n",
    "        init_opts=opts.InitOpts(\n",
    "            width='700px',\n",
    "            height='400px',\n",
    "            renderer=RenderType.CANVAS,  # 渲染风格：可选：canvas，svg\n",
    "            page_title='网页标题',\n",
    "            theme=ThemeType.LIGHT,  # 主题\n",
    "            bg_color='white'  # 背景颜色\n",
    "        )\n",
    "    )\n",
    "    .add_xaxis(Faker.choose())\n",
    "    .add_yaxis('商家A', Faker.values())\n",
    "    .add_yaxis('商家B', Faker.values())\n",
    "    # .set_global_opts(  # 去除网格背景\n",
    "    #     yaxis_opts=opts.AxisOpts(splitline_opts=opts.SplitLineOpts(is_show=False)),\n",
    "    #     xaxis_opts=opts.AxisOpts(splitline_opts=opts.SplitLineOpts(is_show=False))\n",
    "    # )\n",
    "    .set_global_opts(\n",
    "        title_opts=opts.TitleOpts(title='折线图'),\n",
    "        tooltip_opts=opts.TooltipOpts(trigger='axis')\n",
    "    )\n",
    "    # 系列配置项\n",
    "    .set_series_opts(\n",
    "        #  标记点配置\n",
    "        markpoint_opts=opts.MarkPointOpts(\n",
    "            data=[\n",
    "                # type_: 特殊的标记类型\n",
    "                opts.MarkPointItem(type_='max', symbol='pin', symbol_size=50),\n",
    "            ]\n",
    "        ),\n",
    "        # 标记线配置\n",
    "        markline_opts=opts.MarkLineOpts(\n",
    "            data=[\n",
    "                opts.MarkLineItem(type_='average', name='平均值')\n",
    "            ],\n",
    "            label_opts=opts.LabelOpts(\n",
    "                color='red',\n",
    "            )\n",
    "        )\n",
    "    )\n",
    ")\n",
    "display(HTML(c.render()))"
   ],
   "metadata": {
    "collapsed": false,
    "ExecuteTime": {
     "end_time": "2023-07-06T14:00:46.543701100Z",
     "start_time": "2023-07-06T14:00:46.528847300Z"
    }
   }
  },
  {
   "cell_type": "code",
   "execution_count": null,
   "outputs": [],
   "source": [],
   "metadata": {
    "collapsed": false
   }
  }
 ],
 "metadata": {
  "kernelspec": {
   "name": "math",
   "language": "python",
   "display_name": "math"
  },
  "language_info": {
   "codemirror_mode": {
    "name": "ipython",
    "version": 2
   },
   "file_extension": ".py",
   "mimetype": "text/x-python",
   "name": "python",
   "nbconvert_exporter": "python",
   "pygments_lexer": "ipython2",
   "version": "2.7.6"
  }
 },
 "nbformat": 4,
 "nbformat_minor": 0
}
