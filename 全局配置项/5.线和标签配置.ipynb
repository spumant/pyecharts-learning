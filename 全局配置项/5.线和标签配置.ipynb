{
 "cells": [
  {
   "cell_type": "code",
   "execution_count": 1,
   "metadata": {
    "collapsed": true,
    "ExecuteTime": {
     "end_time": "2023-07-06T11:53:28.250151900Z",
     "start_time": "2023-07-06T11:53:28.065546900Z"
    }
   },
   "outputs": [],
   "source": [
    "from pyecharts.charts import Bar, Line\n",
    "from pyecharts import options as opts\n",
    "from pyecharts.faker import Faker\n",
    "from pyecharts.globals import ThemeType, RenderType\n",
    "from IPython.display import display, HTML\n",
    "from pyecharts.render import make_snapshot\n",
    "from snapshot_selenium import snapshot"
   ]
  },
  {
   "cell_type": "code",
   "execution_count": 21,
   "outputs": [
    {
     "data": {
      "text/plain": "<IPython.core.display.HTML object>",
      "text/html": "<!DOCTYPE html>\n<html>\n<head>\n    <meta charset=\"UTF-8\">\n    <title>网页标题</title>\n                <script type=\"text/javascript\" src=\"https://assets.pyecharts.org/assets/v5/echarts.min.js\"></script>\n\n</head>\n<body >\n    <div id=\"7af84b8c5578438498a0ccce09328d96\" class=\"chart-container\" style=\"width:700px; height:400px; \"></div>\n    <script>\n        var chart_7af84b8c5578438498a0ccce09328d96 = echarts.init(\n            document.getElementById('7af84b8c5578438498a0ccce09328d96'), 'light', {renderer: 'canvas'});\n        var option_7af84b8c5578438498a0ccce09328d96 = {\n    \"backgroundColor\": \"white\",\n    \"animation\": true,\n    \"animationThreshold\": 2000,\n    \"animationDuration\": 1000,\n    \"animationEasing\": \"cubicOut\",\n    \"animationDelay\": 0,\n    \"animationDurationUpdate\": 300,\n    \"animationEasingUpdate\": \"cubicOut\",\n    \"animationDelayUpdate\": 0,\n    \"aria\": {\n        \"enabled\": false\n    },\n    \"series\": [\n        {\n            \"type\": \"line\",\n            \"name\": \"\\u5546\\u5bb6A\",\n            \"connectNulls\": false,\n            \"xAxisIndex\": 0,\n            \"symbolSize\": 4,\n            \"showSymbol\": true,\n            \"smooth\": false,\n            \"clip\": true,\n            \"step\": false,\n            \"data\": [\n                [\n                    \"\\u53ef\\u4e50\",\n                    30\n                ],\n                [\n                    \"\\u96ea\\u78a7\",\n                    66\n                ],\n                [\n                    \"\\u6a59\\u6c41\",\n                    90\n                ],\n                [\n                    \"\\u7eff\\u8336\",\n                    56\n                ],\n                [\n                    \"\\u5976\\u8336\",\n                    73\n                ],\n                [\n                    \"\\u767e\\u5a01\",\n                    27\n                ],\n                [\n                    \"\\u9752\\u5c9b\",\n                    102\n                ]\n            ],\n            \"hoverAnimation\": true,\n            \"label\": {\n                \"show\": true,\n                \"color\": \"red\",\n                \"margin\": 8,\n                \"fontSize\": 14,\n                \"fontStyle\": \"normal\",\n                \"fontWeight\": \"normal\",\n                \"fontFamily\": \"Arial\"\n            },\n            \"logBase\": 10,\n            \"seriesLayoutBy\": \"column\",\n            \"lineStyle\": {\n                \"show\": true,\n                \"width\": 2,\n                \"opacity\": 1,\n                \"curveness\": 0,\n                \"type\": \"dashed\",\n                \"color\": \"green\"\n            },\n            \"areaStyle\": {\n                \"opacity\": 0\n            },\n            \"itemStyle\": {\n                \"color\": \"blue\",\n                \"opacity\": 0.8\n            },\n            \"zlevel\": 0,\n            \"z\": 0,\n            \"rippleEffect\": {\n                \"show\": true,\n                \"brushType\": \"stroke\",\n                \"scale\": 2.5,\n                \"period\": 4\n            }\n        },\n        {\n            \"type\": \"line\",\n            \"name\": \"\\u5546\\u5bb6B\",\n            \"connectNulls\": false,\n            \"xAxisIndex\": 0,\n            \"symbolSize\": 4,\n            \"showSymbol\": true,\n            \"smooth\": false,\n            \"clip\": true,\n            \"step\": false,\n            \"data\": [\n                [\n                    \"\\u53ef\\u4e50\",\n                    130\n                ],\n                [\n                    \"\\u96ea\\u78a7\",\n                    56\n                ],\n                [\n                    \"\\u6a59\\u6c41\",\n                    107\n                ],\n                [\n                    \"\\u7eff\\u8336\",\n                    70\n                ],\n                [\n                    \"\\u5976\\u8336\",\n                    121\n                ],\n                [\n                    \"\\u767e\\u5a01\",\n                    117\n                ],\n                [\n                    \"\\u9752\\u5c9b\",\n                    73\n                ]\n            ],\n            \"hoverAnimation\": true,\n            \"label\": {\n                \"show\": true,\n                \"color\": \"red\",\n                \"margin\": 8,\n                \"fontSize\": 14,\n                \"fontStyle\": \"normal\",\n                \"fontWeight\": \"normal\",\n                \"fontFamily\": \"Arial\"\n            },\n            \"logBase\": 10,\n            \"seriesLayoutBy\": \"column\",\n            \"lineStyle\": {\n                \"show\": true,\n                \"width\": 2,\n                \"opacity\": 1,\n                \"curveness\": 0,\n                \"type\": \"dashed\",\n                \"color\": \"green\"\n            },\n            \"areaStyle\": {\n                \"opacity\": 0\n            },\n            \"itemStyle\": {\n                \"color\": \"blue\",\n                \"opacity\": 0.8\n            },\n            \"zlevel\": 0,\n            \"z\": 0,\n            \"rippleEffect\": {\n                \"show\": true,\n                \"brushType\": \"stroke\",\n                \"scale\": 2.5,\n                \"period\": 4\n            }\n        }\n    ],\n    \"legend\": [\n        {\n            \"data\": [\n                \"\\u5546\\u5bb6A\",\n                \"\\u5546\\u5bb6B\"\n            ],\n            \"selected\": {},\n            \"show\": true,\n            \"padding\": 5,\n            \"itemGap\": 10,\n            \"itemWidth\": 25,\n            \"itemHeight\": 14,\n            \"backgroundColor\": \"transparent\",\n            \"borderColor\": \"#ccc\",\n            \"borderWidth\": 1,\n            \"borderRadius\": 0,\n            \"pageButtonItemGap\": 5,\n            \"pageButtonPosition\": \"end\",\n            \"pageFormatter\": \"{current}/{total}\",\n            \"pageIconColor\": \"#2f4554\",\n            \"pageIconInactiveColor\": \"#aaa\",\n            \"pageIconSize\": 15,\n            \"animationDurationUpdate\": 800,\n            \"selector\": false,\n            \"selectorPosition\": \"auto\",\n            \"selectorItemGap\": 7,\n            \"selectorButtonGap\": 10\n        }\n    ],\n    \"tooltip\": {\n        \"show\": true,\n        \"trigger\": \"axis\",\n        \"triggerOn\": \"mousemove|click\",\n        \"axisPointer\": {\n            \"type\": \"line\"\n        },\n        \"showContent\": true,\n        \"alwaysShowContent\": false,\n        \"showDelay\": 0,\n        \"hideDelay\": 100,\n        \"enterable\": false,\n        \"confine\": false,\n        \"appendToBody\": false,\n        \"transitionDuration\": 0.4,\n        \"textStyle\": {\n            \"fontSize\": 14\n        },\n        \"borderWidth\": 0,\n        \"padding\": 5,\n        \"order\": \"seriesAsc\"\n    },\n    \"xAxis\": [\n        {\n            \"show\": true,\n            \"scale\": false,\n            \"nameLocation\": \"end\",\n            \"nameGap\": 15,\n            \"gridIndex\": 0,\n            \"inverse\": false,\n            \"offset\": 0,\n            \"splitNumber\": 5,\n            \"minInterval\": 0,\n            \"splitLine\": {\n                \"show\": true,\n                \"lineStyle\": {\n                    \"show\": true,\n                    \"width\": 1,\n                    \"opacity\": 1,\n                    \"curveness\": 0,\n                    \"type\": \"solid\"\n                }\n            },\n            \"data\": [\n                \"\\u53ef\\u4e50\",\n                \"\\u96ea\\u78a7\",\n                \"\\u6a59\\u6c41\",\n                \"\\u7eff\\u8336\",\n                \"\\u5976\\u8336\",\n                \"\\u767e\\u5a01\",\n                \"\\u9752\\u5c9b\"\n            ]\n        }\n    ],\n    \"yAxis\": [\n        {\n            \"show\": true,\n            \"scale\": false,\n            \"nameLocation\": \"end\",\n            \"nameGap\": 15,\n            \"gridIndex\": 0,\n            \"inverse\": false,\n            \"offset\": 0,\n            \"splitNumber\": 5,\n            \"minInterval\": 0,\n            \"splitLine\": {\n                \"show\": true,\n                \"lineStyle\": {\n                    \"show\": true,\n                    \"width\": 1,\n                    \"opacity\": 1,\n                    \"curveness\": 0,\n                    \"type\": \"solid\"\n                }\n            }\n        }\n    ],\n    \"title\": [\n        {\n            \"show\": true,\n            \"text\": \"\\u6298\\u7ebf\\u56fe\",\n            \"target\": \"blank\",\n            \"subtarget\": \"blank\",\n            \"padding\": 5,\n            \"itemGap\": 10,\n            \"textAlign\": \"auto\",\n            \"textVerticalAlign\": \"auto\",\n            \"triggerEvent\": false\n        }\n    ]\n};\n        chart_7af84b8c5578438498a0ccce09328d96.setOption(option_7af84b8c5578438498a0ccce09328d96);\n    </script>\n</body>\n</html>\n"
     },
     "metadata": {},
     "output_type": "display_data"
    }
   ],
   "source": [
    "c = (\n",
    "    Line(\n",
    "        init_opts=opts.InitOpts(\n",
    "            width='700px',\n",
    "            height='400px',\n",
    "            renderer=RenderType.CANVAS,  # 渲染风格：可选：canvas，svg\n",
    "            page_title='网页标题',\n",
    "            theme=ThemeType.LIGHT,  # 主题\n",
    "            bg_color='white'  # 背景颜色\n",
    "        )\n",
    "    )\n",
    "    .add_xaxis(Faker.choose())\n",
    "    .add_yaxis('商家A', Faker.values())\n",
    "    .add_yaxis('商家B', Faker.values())\n",
    "    # .set_global_opts(  # 去除网格背景\n",
    "    #     yaxis_opts=opts.AxisOpts(splitline_opts=opts.SplitLineOpts(is_show=False)),\n",
    "    #     xaxis_opts=opts.AxisOpts(splitline_opts=opts.SplitLineOpts(is_show=False))\n",
    "    # )\n",
    "    .set_global_opts(\n",
    "        title_opts=opts.TitleOpts(title='折线图'),\n",
    "        tooltip_opts=opts.TooltipOpts(trigger='axis')\n",
    "    )\n",
    "    # 系列配置项\n",
    "    .set_series_opts(\n",
    "        # 图元配置项\n",
    "        itemstyle_opts=opts.ItemStyleOpts(\n",
    "            # 图形的颜色。\n",
    "            # 颜色可以使用 RGB 表示，比如 'rgb(128, 128, 128)'，如果想要加上 alpha 通道表示不透明度，\n",
    "            # 可以使用 RGBA，比如 'rgba(128, 128, 128, 0.5)'，也可以使用十六进制格式，比如 '#ccc'。\n",
    "            # 除了纯色之外颜色也支持渐变色和纹理填充\n",
    "            color='blue',\n",
    "            opacity=0.8,\n",
    "        ),\n",
    "        # 线样式配置项\n",
    "        linestyle_opts=opts.LineStyleOpts(\n",
    "            width=2,\n",
    "            color='green',\n",
    "            type_='dashed'\n",
    "        ),\n",
    "        # 标签配置项\n",
    "        label_opts=opts.LabelOpts(\n",
    "            # position='inside',\n",
    "            color='red',\n",
    "            font_size=14,\n",
    "            # 文字的字体系列\n",
    "            # 还可以是 'serif' , 'monospace', 'Arial', 'Courier New', 'Microsoft YaHei', ...\n",
    "            font_family='Arial',\n",
    "            # 文字字体的风格，可选：\n",
    "            # 'normal'，'italic'，'oblique'\n",
    "            font_style='normal',\n",
    "            # 文字字体的粗细，可选：\n",
    "            # 'normal'，'bold'，'bolder'，'lighter'\n",
    "            font_weight='normal',\n",
    "        )\n",
    "    )\n",
    ")\n",
    "display(HTML(c.render()))"
   ],
   "metadata": {
    "collapsed": false,
    "ExecuteTime": {
     "end_time": "2023-07-06T12:18:08.245195900Z",
     "start_time": "2023-07-06T12:18:08.228519200Z"
    }
   }
  },
  {
   "cell_type": "code",
   "execution_count": null,
   "outputs": [],
   "source": [],
   "metadata": {
    "collapsed": false
   }
  }
 ],
 "metadata": {
  "kernelspec": {
   "name": "math",
   "language": "python",
   "display_name": "math"
  },
  "language_info": {
   "codemirror_mode": {
    "name": "ipython",
    "version": 2
   },
   "file_extension": ".py",
   "mimetype": "text/x-python",
   "name": "python",
   "nbconvert_exporter": "python",
   "pygments_lexer": "ipython2",
   "version": "2.7.6"
  }
 },
 "nbformat": 4,
 "nbformat_minor": 0
}
