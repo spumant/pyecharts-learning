{
 "cells": [
  {
   "cell_type": "code",
   "execution_count": 1,
   "metadata": {
    "collapsed": true,
    "ExecuteTime": {
     "end_time": "2023-07-06T10:44:23.240520200Z",
     "start_time": "2023-07-06T10:44:23.055519800Z"
    }
   },
   "outputs": [],
   "source": [
    "from pyecharts.charts import Bar, Line\n",
    "from pyecharts import options as opts\n",
    "from pyecharts.faker import Faker\n",
    "from pyecharts.globals import ThemeType, RenderType\n",
    "from IPython.display import display, HTML\n",
    "from pyecharts.render import make_snapshot\n",
    "from snapshot_selenium import snapshot"
   ]
  },
  {
   "cell_type": "code",
   "execution_count": 7,
   "outputs": [
    {
     "data": {
      "text/plain": "<IPython.core.display.HTML object>",
      "text/html": "<!DOCTYPE html>\n<html>\n<head>\n    <meta charset=\"UTF-8\">\n    <title>网页标题</title>\n                <script type=\"text/javascript\" src=\"https://assets.pyecharts.org/assets/v5/echarts.min.js\"></script>\n\n</head>\n<body >\n    <div id=\"91d091b59918425991a04ccc28f19d1d\" class=\"chart-container\" style=\"width:700px; height:400px; \"></div>\n    <script>\n        var chart_91d091b59918425991a04ccc28f19d1d = echarts.init(\n            document.getElementById('91d091b59918425991a04ccc28f19d1d'), 'light', {renderer: 'canvas'});\n        var option_91d091b59918425991a04ccc28f19d1d = {\n    \"backgroundColor\": \"white\",\n    \"animation\": true,\n    \"animationThreshold\": 2000,\n    \"animationDuration\": 1000,\n    \"animationEasing\": \"cubicOut\",\n    \"animationDelay\": 0,\n    \"animationDurationUpdate\": 300,\n    \"animationEasingUpdate\": \"cubicOut\",\n    \"animationDelayUpdate\": 0,\n    \"aria\": {\n        \"enabled\": false\n    },\n    \"series\": [\n        {\n            \"type\": \"bar\",\n            \"name\": \"\\u5546\\u5bb6A\",\n            \"legendHoverLink\": true,\n            \"data\": [\n                123,\n                45,\n                118,\n                150,\n                28,\n                108,\n                116\n            ],\n            \"realtimeSort\": false,\n            \"showBackground\": false,\n            \"stackStrategy\": \"samesign\",\n            \"cursor\": \"pointer\",\n            \"barMinHeight\": 0,\n            \"barCategoryGap\": \"20%\",\n            \"barGap\": \"30%\",\n            \"large\": false,\n            \"largeThreshold\": 400,\n            \"seriesLayoutBy\": \"column\",\n            \"datasetIndex\": 0,\n            \"clip\": true,\n            \"zlevel\": 0,\n            \"z\": 2,\n            \"label\": {\n                \"show\": true,\n                \"margin\": 8\n            }\n        },\n        {\n            \"type\": \"bar\",\n            \"name\": \"\\u5546\\u5bb6B\",\n            \"legendHoverLink\": true,\n            \"data\": [\n                38,\n                136,\n                62,\n                28,\n                70,\n                136,\n                98\n            ],\n            \"realtimeSort\": false,\n            \"showBackground\": false,\n            \"stackStrategy\": \"samesign\",\n            \"cursor\": \"pointer\",\n            \"barMinHeight\": 0,\n            \"barCategoryGap\": \"20%\",\n            \"barGap\": \"30%\",\n            \"large\": false,\n            \"largeThreshold\": 400,\n            \"seriesLayoutBy\": \"column\",\n            \"datasetIndex\": 0,\n            \"clip\": true,\n            \"zlevel\": 0,\n            \"z\": 2,\n            \"label\": {\n                \"show\": true,\n                \"margin\": 8\n            }\n        }\n    ],\n    \"legend\": [\n        {\n            \"data\": [\n                \"\\u5546\\u5bb6A\",\n                \"\\u5546\\u5bb6B\"\n            ],\n            \"selected\": {},\n            \"show\": true,\n            \"padding\": 5,\n            \"itemGap\": 10,\n            \"itemWidth\": 25,\n            \"itemHeight\": 14,\n            \"backgroundColor\": \"transparent\",\n            \"borderColor\": \"#ccc\",\n            \"borderWidth\": 1,\n            \"borderRadius\": 0,\n            \"pageButtonItemGap\": 5,\n            \"pageButtonPosition\": \"end\",\n            \"pageFormatter\": \"{current}/{total}\",\n            \"pageIconColor\": \"#2f4554\",\n            \"pageIconInactiveColor\": \"#aaa\",\n            \"pageIconSize\": 15,\n            \"animationDurationUpdate\": 800,\n            \"selector\": false,\n            \"selectorPosition\": \"auto\",\n            \"selectorItemGap\": 7,\n            \"selectorButtonGap\": 10\n        }\n    ],\n    \"tooltip\": {\n        \"show\": true,\n        \"trigger\": \"item\",\n        \"triggerOn\": \"mousemove|click\",\n        \"axisPointer\": {\n            \"type\": \"line\"\n        },\n        \"showContent\": true,\n        \"alwaysShowContent\": false,\n        \"showDelay\": 0,\n        \"hideDelay\": 100,\n        \"enterable\": false,\n        \"confine\": false,\n        \"appendToBody\": false,\n        \"transitionDuration\": 0.4,\n        \"textStyle\": {\n            \"fontSize\": 14\n        },\n        \"borderWidth\": 0,\n        \"padding\": 5,\n        \"order\": \"seriesAsc\"\n    },\n    \"xAxis\": [\n        {\n            \"type\": \"category\",\n            \"show\": true,\n            \"scale\": false,\n            \"nameLocation\": \"end\",\n            \"nameGap\": 15,\n            \"gridIndex\": 0,\n            \"inverse\": false,\n            \"offset\": 0,\n            \"splitNumber\": 5,\n            \"minInterval\": 0,\n            \"splitLine\": {\n                \"show\": true,\n                \"lineStyle\": {\n                    \"show\": true,\n                    \"width\": 1,\n                    \"opacity\": 1,\n                    \"curveness\": 0,\n                    \"type\": \"solid\"\n                }\n            },\n            \"data\": [\n                \"\\u5c0f\\u7c73\",\n                \"\\u4e09\\u661f\",\n                \"\\u534e\\u4e3a\",\n                \"\\u82f9\\u679c\",\n                \"\\u9b45\\u65cf\",\n                \"VIVO\",\n                \"OPPO\"\n            ]\n        }\n    ],\n    \"yAxis\": [\n        {\n            \"show\": true,\n            \"scale\": false,\n            \"nameLocation\": \"end\",\n            \"nameGap\": 15,\n            \"gridIndex\": 0,\n            \"axisLine\": {\n                \"show\": false,\n                \"onZero\": true,\n                \"onZeroAxisIndex\": 0\n            },\n            \"axisTick\": {\n                \"show\": false,\n                \"alignWithLabel\": false,\n                \"inside\": false\n            },\n            \"inverse\": false,\n            \"offset\": 0,\n            \"splitNumber\": 5,\n            \"minInterval\": 0,\n            \"splitLine\": {\n                \"show\": true,\n                \"lineStyle\": {\n                    \"show\": true,\n                    \"width\": 1,\n                    \"opacity\": 1,\n                    \"curveness\": 0,\n                    \"type\": \"solid\"\n                }\n            }\n        }\n    ],\n    \"title\": [\n        {\n            \"show\": true,\n            \"target\": \"blank\",\n            \"subtarget\": \"blank\",\n            \"padding\": 5,\n            \"itemGap\": 10,\n            \"textAlign\": \"auto\",\n            \"textVerticalAlign\": \"auto\",\n            \"triggerEvent\": false\n        }\n    ]\n};\n        chart_91d091b59918425991a04ccc28f19d1d.setOption(option_91d091b59918425991a04ccc28f19d1d);\n    </script>\n</body>\n</html>\n"
     },
     "metadata": {},
     "output_type": "display_data"
    }
   ],
   "source": [
    "c = (\n",
    "    Bar(\n",
    "        init_opts=opts.InitOpts(\n",
    "            width='700px',\n",
    "            height='400px',\n",
    "            renderer=RenderType.CANVAS,  # 渲染风格：可选：canvas，svg\n",
    "            page_title='网页标题',\n",
    "            theme=ThemeType.LIGHT,  # 主题\n",
    "            bg_color='white'  # 背景颜色\n",
    "        )\n",
    "    )\n",
    "    .add_xaxis(Faker.choose())\n",
    "    .add_yaxis('商家A', Faker.values())\n",
    "    .add_yaxis('商家B', Faker.values())\n",
    "    .set_global_opts(  # 去除网格背景\n",
    "        yaxis_opts=opts.AxisOpts(splitline_opts=opts.SplitLineOpts(is_show=False)),\n",
    "        xaxis_opts=opts.AxisOpts(splitline_opts=opts.SplitLineOpts(is_show=False))\n",
    "    )\n",
    "    .set_global_opts(\n",
    "        xaxis_opts=opts.AxisOpts(\n",
    "            is_show=True,\n",
    "            # 坐标轴类型。可选：\n",
    "            # 'value': 数值轴，适用于连续数据。\n",
    "            # 'category': 类目轴，适用于离散的类目数据，为该类型时必须通过 data 设置类目数据。\n",
    "            # 'time': 时间轴，适用于连续的时序数据，与数值轴相比时间轴带有时间的格式化，在刻度计算上也有所不同，\n",
    "            # 例如会根据跨度的范围来决定使用月，星期，日还是小时范围的刻度。\n",
    "            # 'log' 对数轴。适用于对数数据。\n",
    "            type_='category',\n",
    "        ),\n",
    "        yaxis_opts=opts.AxisOpts(\n",
    "            axisline_opts=opts.AxisLineOpts(is_show=False),\n",
    "            axistick_opts=opts.AxisTickOpts(is_show=False),\n",
    "        )\n",
    "    )\n",
    ")\n",
    "display(HTML(c.render()))"
   ],
   "metadata": {
    "collapsed": false,
    "ExecuteTime": {
     "end_time": "2023-07-06T11:21:21.425779200Z",
     "start_time": "2023-07-06T11:21:21.415779400Z"
    }
   }
  },
  {
   "cell_type": "code",
   "execution_count": null,
   "outputs": [],
   "source": [],
   "metadata": {
    "collapsed": false
   }
  }
 ],
 "metadata": {
  "kernelspec": {
   "display_name": "Python 3",
   "language": "python",
   "name": "python3"
  },
  "language_info": {
   "codemirror_mode": {
    "name": "ipython",
    "version": 2
   },
   "file_extension": ".py",
   "mimetype": "text/x-python",
   "name": "python",
   "nbconvert_exporter": "python",
   "pygments_lexer": "ipython2",
   "version": "2.7.6"
  }
 },
 "nbformat": 4,
 "nbformat_minor": 0
}
