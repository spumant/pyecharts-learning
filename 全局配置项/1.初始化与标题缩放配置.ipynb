{
 "cells": [
  {
   "cell_type": "code",
   "execution_count": 1,
   "metadata": {
    "collapsed": true,
    "ExecuteTime": {
     "start_time": "2023-07-04T10:45:31.453510Z",
     "end_time": "2023-07-04T10:45:31.703698Z"
    }
   },
   "outputs": [],
   "source": [
    "from pyecharts.charts import Bar, Line\n",
    "from pyecharts import options as opts\n",
    "from pyecharts.faker import Faker\n",
    "from pyecharts.globals import ThemeType, RenderType\n",
    "from IPython.display import display, HTML\n",
    "from pyecharts.render import make_snapshot\n",
    "from snapshot_selenium import snapshot"
   ]
  },
  {
   "cell_type": "code",
   "execution_count": 34,
   "outputs": [
    {
     "data": {
      "text/plain": "<IPython.core.display.HTML object>",
      "text/html": "<!DOCTYPE html>\n<html>\n<head>\n    <meta charset=\"UTF-8\">\n    <title>网页标题</title>\n                <script type=\"text/javascript\" src=\"https://assets.pyecharts.org/assets/v5/echarts.min.js\"></script>\n\n</head>\n<body >\n    <div id=\"e9d7385e117d42ee82fff8227ae595b9\" class=\"chart-container\" style=\"width:700px; height:400px; \"></div>\n    <script>\n        var chart_e9d7385e117d42ee82fff8227ae595b9 = echarts.init(\n            document.getElementById('e9d7385e117d42ee82fff8227ae595b9'), 'white', {renderer: 'canvas'});\n        var option_e9d7385e117d42ee82fff8227ae595b9 = {\n    \"backgroundColor\": \"white\",\n    \"animation\": true,\n    \"animationThreshold\": 2000,\n    \"animationDuration\": 1000,\n    \"animationEasing\": \"cubicOut\",\n    \"animationDelay\": 0,\n    \"animationDurationUpdate\": 300,\n    \"animationEasingUpdate\": \"cubicOut\",\n    \"animationDelayUpdate\": 0,\n    \"aria\": {\n        \"enabled\": false\n    },\n    \"color\": [\n        \"#5470c6\",\n        \"#91cc75\",\n        \"#fac858\",\n        \"#ee6666\",\n        \"#73c0de\",\n        \"#3ba272\",\n        \"#fc8452\",\n        \"#9a60b4\",\n        \"#ea7ccc\"\n    ],\n    \"series\": [\n        {\n            \"type\": \"bar\",\n            \"name\": \"\\u5546\\u5bb6A\",\n            \"legendHoverLink\": true,\n            \"data\": [\n                33,\n                87,\n                81,\n                94,\n                148,\n                112,\n                111\n            ],\n            \"realtimeSort\": false,\n            \"showBackground\": false,\n            \"stackStrategy\": \"samesign\",\n            \"cursor\": \"pointer\",\n            \"barMinHeight\": 0,\n            \"barCategoryGap\": \"20%\",\n            \"barGap\": \"30%\",\n            \"large\": false,\n            \"largeThreshold\": 400,\n            \"seriesLayoutBy\": \"column\",\n            \"datasetIndex\": 0,\n            \"clip\": true,\n            \"zlevel\": 0,\n            \"z\": 2,\n            \"label\": {\n                \"show\": true,\n                \"margin\": 8\n            }\n        },\n        {\n            \"type\": \"bar\",\n            \"name\": \"\\u5546\\u5bb6B\",\n            \"legendHoverLink\": true,\n            \"data\": [\n                133,\n                125,\n                49,\n                93,\n                140,\n                76,\n                133\n            ],\n            \"realtimeSort\": false,\n            \"showBackground\": false,\n            \"stackStrategy\": \"samesign\",\n            \"cursor\": \"pointer\",\n            \"barMinHeight\": 0,\n            \"barCategoryGap\": \"20%\",\n            \"barGap\": \"30%\",\n            \"large\": false,\n            \"largeThreshold\": 400,\n            \"seriesLayoutBy\": \"column\",\n            \"datasetIndex\": 0,\n            \"clip\": true,\n            \"zlevel\": 0,\n            \"z\": 2,\n            \"label\": {\n                \"show\": true,\n                \"margin\": 8\n            }\n        }\n    ],\n    \"legend\": [\n        {\n            \"data\": [\n                \"\\u5546\\u5bb6A\",\n                \"\\u5546\\u5bb6B\"\n            ],\n            \"selected\": {},\n            \"show\": true,\n            \"padding\": 5,\n            \"itemGap\": 10,\n            \"itemWidth\": 25,\n            \"itemHeight\": 14,\n            \"backgroundColor\": \"transparent\",\n            \"borderColor\": \"#ccc\",\n            \"borderWidth\": 1,\n            \"borderRadius\": 0,\n            \"pageButtonItemGap\": 5,\n            \"pageButtonPosition\": \"end\",\n            \"pageFormatter\": \"{current}/{total}\",\n            \"pageIconColor\": \"#2f4554\",\n            \"pageIconInactiveColor\": \"#aaa\",\n            \"pageIconSize\": 15,\n            \"animationDurationUpdate\": 800,\n            \"selector\": false,\n            \"selectorPosition\": \"auto\",\n            \"selectorItemGap\": 7,\n            \"selectorButtonGap\": 10\n        }\n    ],\n    \"tooltip\": {\n        \"show\": true,\n        \"trigger\": \"item\",\n        \"triggerOn\": \"mousemove|click\",\n        \"axisPointer\": {\n            \"type\": \"line\"\n        },\n        \"showContent\": true,\n        \"alwaysShowContent\": false,\n        \"showDelay\": 0,\n        \"hideDelay\": 100,\n        \"enterable\": false,\n        \"confine\": false,\n        \"appendToBody\": false,\n        \"transitionDuration\": 0.4,\n        \"textStyle\": {\n            \"fontSize\": 14\n        },\n        \"borderWidth\": 0,\n        \"padding\": 5,\n        \"order\": \"seriesAsc\"\n    },\n    \"xAxis\": [\n        {\n            \"show\": true,\n            \"scale\": false,\n            \"nameLocation\": \"end\",\n            \"nameGap\": 15,\n            \"gridIndex\": 0,\n            \"inverse\": false,\n            \"offset\": 0,\n            \"splitNumber\": 5,\n            \"minInterval\": 0,\n            \"splitLine\": {\n                \"show\": false,\n                \"lineStyle\": {\n                    \"show\": true,\n                    \"width\": 1,\n                    \"opacity\": 1,\n                    \"curveness\": 0,\n                    \"type\": \"solid\"\n                }\n            },\n            \"data\": [\n                \"\\u5c0f\\u7c73\",\n                \"\\u4e09\\u661f\",\n                \"\\u534e\\u4e3a\",\n                \"\\u82f9\\u679c\",\n                \"\\u9b45\\u65cf\",\n                \"VIVO\",\n                \"OPPO\"\n            ]\n        }\n    ],\n    \"yAxis\": [\n        {\n            \"show\": true,\n            \"scale\": false,\n            \"nameLocation\": \"end\",\n            \"nameGap\": 15,\n            \"gridIndex\": 0,\n            \"inverse\": false,\n            \"offset\": 0,\n            \"splitNumber\": 5,\n            \"minInterval\": 0,\n            \"splitLine\": {\n                \"show\": false,\n                \"lineStyle\": {\n                    \"show\": true,\n                    \"width\": 1,\n                    \"opacity\": 1,\n                    \"curveness\": 0,\n                    \"type\": \"solid\"\n                }\n            }\n        }\n    ],\n    \"title\": [\n        {\n            \"show\": true,\n            \"text\": \"\\u67f1\\u5f62\\u56fe\",\n            \"link\": \"https://www.baidu.com\",\n            \"target\": \"blank\",\n            \"subtext\": \"\\u526f\\u6807\\u9898\",\n            \"sublink\": \"https://www.baidu.com\",\n            \"subtarget\": \"blank\",\n            \"left\": \"10px\",\n            \"top\": \"10px\",\n            \"padding\": 2,\n            \"itemGap\": 10,\n            \"textAlign\": \"auto\",\n            \"textVerticalAlign\": \"auto\",\n            \"triggerEvent\": false\n        }\n    ],\n    \"dataZoom\": {\n        \"show\": true,\n        \"type\": \"slider\",\n        \"showDetail\": true,\n        \"showDataShadow\": true,\n        \"realtime\": true,\n        \"start\": 20,\n        \"end\": 80,\n        \"orient\": \"horizontal\",\n        \"zoomLock\": true,\n        \"filterMode\": \"filter\"\n    }\n};\n        chart_e9d7385e117d42ee82fff8227ae595b9.setOption(option_e9d7385e117d42ee82fff8227ae595b9);\n    </script>\n</body>\n</html>\n"
     },
     "metadata": {},
     "output_type": "display_data"
    }
   ],
   "source": [
    "c = (\n",
    "    Bar(\n",
    "        init_opts=opts.InitOpts(\n",
    "            width='700px',\n",
    "            height='400px',\n",
    "            renderer=RenderType.CANVAS,  # 渲染风格：可选：canvas，svg\n",
    "            page_title='网页标题',\n",
    "            theme=ThemeType.WHITE,  # 主题\n",
    "            bg_color='white'  # 背景颜色\n",
    "        )\n",
    "    )\n",
    "    .add_xaxis(Faker.choose())\n",
    "    .add_yaxis('商家A', Faker.values())\n",
    "    .add_yaxis('商家B', Faker.values())\n",
    "    .set_global_opts(  # 去除网格背景\n",
    "        yaxis_opts=opts.AxisOpts(splitline_opts=opts.SplitLineOpts(is_show=False)),\n",
    "        xaxis_opts=opts.AxisOpts(splitline_opts=opts.SplitLineOpts(is_show=False))\n",
    "    )\n",
    "    .set_global_opts(\n",
    "        title_opts=opts.TitleOpts(\n",
    "            title='柱形图',  # 主标题\n",
    "            title_link='https://www.baidu.com',  # 主标题点击跳转链接\n",
    "            title_target='blank',  # blank新窗口打开，self当前窗口打开\n",
    "\n",
    "            subtitle='副标题',\n",
    "            subtitle_link='https://www.baidu.com',\n",
    "            subtitle_target='blank',\n",
    "\n",
    "            # 位置\n",
    "            pos_left='10px',\n",
    "            pos_top='10px',\n",
    "            padding=2,  # 内边距\n",
    "            item_gap=10,  # 主标题和副标题之间的间隙\n",
    "        ),\n",
    "        # DataZoomOpts: 区域缩放配置项\n",
    "        datazoom_opts=opts.DataZoomOpts(\n",
    "            is_show=True,\n",
    "            type_='slider',  # 组件的类型：slider，inside\n",
    "            is_realtime=True,  # 拖动时是否实时更新图表\n",
    "            range_start=20,  # 数据窗口的起始位置百分比\n",
    "            range_end=80,  # 数据窗口的终止位置百分比\n",
    "            orient='horizontal',  #  horizontal 或 vertical\n",
    "            is_zoom_lock=True  # 是否锁定选择区域\n",
    "        )\n",
    "    )\n",
    ")\n",
    "display(HTML(c.render()))"
   ],
   "metadata": {
    "collapsed": false,
    "ExecuteTime": {
     "start_time": "2023-07-04T11:24:48.174414Z",
     "end_time": "2023-07-04T11:24:48.205443Z"
    }
   }
  },
  {
   "cell_type": "code",
   "execution_count": null,
   "outputs": [],
   "source": [],
   "metadata": {
    "collapsed": false
   }
  }
 ],
 "metadata": {
  "kernelspec": {
   "name": "math",
   "language": "python",
   "display_name": "Python [conda env:math]"
  },
  "language_info": {
   "codemirror_mode": {
    "name": "ipython",
    "version": 2
   },
   "file_extension": ".py",
   "mimetype": "text/x-python",
   "name": "python",
   "nbconvert_exporter": "python",
   "pygments_lexer": "ipython2",
   "version": "2.7.6"
  }
 },
 "nbformat": 4,
 "nbformat_minor": 0
}
