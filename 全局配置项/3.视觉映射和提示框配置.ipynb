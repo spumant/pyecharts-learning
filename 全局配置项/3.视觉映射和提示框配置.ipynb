{
 "cells": [
  {
   "cell_type": "code",
   "execution_count": 2,
   "metadata": {
    "collapsed": true,
    "ExecuteTime": {
     "end_time": "2023-07-06T09:27:03.431057800Z",
     "start_time": "2023-07-06T09:27:03.059057500Z"
    }
   },
   "outputs": [],
   "source": [
    "from pyecharts.charts import Bar, Line\n",
    "from pyecharts import options as opts\n",
    "from pyecharts.faker import Faker\n",
    "from pyecharts.globals import ThemeType, RenderType\n",
    "from IPython.display import display, HTML\n",
    "from pyecharts.render import make_snapshot\n",
    "from snapshot_selenium import snapshot"
   ]
  },
  {
   "cell_type": "code",
   "execution_count": 21,
   "outputs": [
    {
     "data": {
      "text/plain": "<IPython.core.display.HTML object>",
      "text/html": "<!DOCTYPE html>\n<html>\n<head>\n    <meta charset=\"UTF-8\">\n    <title>网页标题</title>\n                <script type=\"text/javascript\" src=\"https://assets.pyecharts.org/assets/v5/echarts.min.js\"></script>\n\n</head>\n<body >\n    <div id=\"b99fc3436f1245989f3937a99c2fd177\" class=\"chart-container\" style=\"width:700px; height:400px; \"></div>\n    <script>\n        var chart_b99fc3436f1245989f3937a99c2fd177 = echarts.init(\n            document.getElementById('b99fc3436f1245989f3937a99c2fd177'), 'light', {renderer: 'canvas'});\n        var option_b99fc3436f1245989f3937a99c2fd177 = {\n    \"backgroundColor\": \"white\",\n    \"animation\": true,\n    \"animationThreshold\": 2000,\n    \"animationDuration\": 1000,\n    \"animationEasing\": \"cubicOut\",\n    \"animationDelay\": 0,\n    \"animationDurationUpdate\": 300,\n    \"animationEasingUpdate\": \"cubicOut\",\n    \"animationDelayUpdate\": 0,\n    \"aria\": {\n        \"enabled\": false\n    },\n    \"series\": [\n        {\n            \"type\": \"bar\",\n            \"name\": \"\\u5546\\u5bb6A\",\n            \"legendHoverLink\": true,\n            \"data\": [\n                62,\n                72,\n                96,\n                129,\n                120,\n                81,\n                128\n            ],\n            \"realtimeSort\": false,\n            \"showBackground\": false,\n            \"stackStrategy\": \"samesign\",\n            \"cursor\": \"pointer\",\n            \"barMinHeight\": 0,\n            \"barCategoryGap\": \"20%\",\n            \"barGap\": \"30%\",\n            \"large\": false,\n            \"largeThreshold\": 400,\n            \"seriesLayoutBy\": \"column\",\n            \"datasetIndex\": 0,\n            \"clip\": true,\n            \"zlevel\": 0,\n            \"z\": 2,\n            \"label\": {\n                \"show\": true,\n                \"margin\": 8\n            }\n        },\n        {\n            \"type\": \"bar\",\n            \"name\": \"\\u5546\\u5bb6B\",\n            \"legendHoverLink\": true,\n            \"data\": [\n                86,\n                54,\n                119,\n                99,\n                88,\n                115,\n                90\n            ],\n            \"realtimeSort\": false,\n            \"showBackground\": false,\n            \"stackStrategy\": \"samesign\",\n            \"cursor\": \"pointer\",\n            \"barMinHeight\": 0,\n            \"barCategoryGap\": \"20%\",\n            \"barGap\": \"30%\",\n            \"large\": false,\n            \"largeThreshold\": 400,\n            \"seriesLayoutBy\": \"column\",\n            \"datasetIndex\": 0,\n            \"clip\": true,\n            \"zlevel\": 0,\n            \"z\": 2,\n            \"label\": {\n                \"show\": true,\n                \"margin\": 8\n            }\n        }\n    ],\n    \"legend\": [\n        {\n            \"data\": [\n                \"\\u5546\\u5bb6A\",\n                \"\\u5546\\u5bb6B\"\n            ],\n            \"selected\": {},\n            \"show\": true,\n            \"padding\": 5,\n            \"itemGap\": 10,\n            \"itemWidth\": 25,\n            \"itemHeight\": 14,\n            \"backgroundColor\": \"transparent\",\n            \"borderColor\": \"#ccc\",\n            \"borderWidth\": 1,\n            \"borderRadius\": 0,\n            \"pageButtonItemGap\": 5,\n            \"pageButtonPosition\": \"end\",\n            \"pageFormatter\": \"{current}/{total}\",\n            \"pageIconColor\": \"#2f4554\",\n            \"pageIconInactiveColor\": \"#aaa\",\n            \"pageIconSize\": 15,\n            \"animationDurationUpdate\": 800,\n            \"selector\": false,\n            \"selectorPosition\": \"auto\",\n            \"selectorItemGap\": 7,\n            \"selectorButtonGap\": 10\n        }\n    ],\n    \"tooltip\": {\n        \"show\": true,\n        \"trigger\": \"axis\",\n        \"triggerOn\": \"mousemove|click\",\n        \"axisPointer\": {\n            \"type\": \"line\"\n        },\n        \"showContent\": true,\n        \"alwaysShowContent\": false,\n        \"showDelay\": 0,\n        \"hideDelay\": 100,\n        \"enterable\": false,\n        \"confine\": false,\n        \"appendToBody\": false,\n        \"transitionDuration\": 0.4,\n        \"formatter\": \"{a}:{b}-{c}\",\n        \"textStyle\": {\n            \"fontSize\": 14\n        },\n        \"borderColor\": \"white\",\n        \"borderWidth\": 1,\n        \"padding\": 5,\n        \"order\": \"seriesAsc\"\n    },\n    \"xAxis\": [\n        {\n            \"show\": true,\n            \"scale\": false,\n            \"nameLocation\": \"end\",\n            \"nameGap\": 15,\n            \"gridIndex\": 0,\n            \"inverse\": false,\n            \"offset\": 0,\n            \"splitNumber\": 5,\n            \"minInterval\": 0,\n            \"splitLine\": {\n                \"show\": false,\n                \"lineStyle\": {\n                    \"show\": true,\n                    \"width\": 1,\n                    \"opacity\": 1,\n                    \"curveness\": 0,\n                    \"type\": \"solid\"\n                }\n            },\n            \"data\": [\n                \"\\u8349\\u8393\",\n                \"\\u8292\\u679c\",\n                \"\\u8461\\u8404\",\n                \"\\u96ea\\u68a8\",\n                \"\\u897f\\u74dc\",\n                \"\\u67e0\\u6aac\",\n                \"\\u8f66\\u5398\\u5b50\"\n            ]\n        }\n    ],\n    \"yAxis\": [\n        {\n            \"show\": true,\n            \"scale\": false,\n            \"nameLocation\": \"end\",\n            \"nameGap\": 15,\n            \"gridIndex\": 0,\n            \"inverse\": false,\n            \"offset\": 0,\n            \"splitNumber\": 5,\n            \"minInterval\": 0,\n            \"splitLine\": {\n                \"show\": false,\n                \"lineStyle\": {\n                    \"show\": true,\n                    \"width\": 1,\n                    \"opacity\": 1,\n                    \"curveness\": 0,\n                    \"type\": \"solid\"\n                }\n            }\n        }\n    ],\n    \"title\": [\n        {\n            \"show\": true,\n            \"target\": \"blank\",\n            \"subtarget\": \"blank\",\n            \"padding\": 5,\n            \"itemGap\": 10,\n            \"textAlign\": \"auto\",\n            \"textVerticalAlign\": \"auto\",\n            \"triggerEvent\": false\n        }\n    ],\n    \"visualMap\": {\n        \"show\": true,\n        \"type\": \"piecewise\",\n        \"min\": 0,\n        \"max\": 150,\n        \"text\": [\n            \"max\",\n            \"min\"\n        ],\n        \"inRange\": {\n            \"color\": [\n                \"#50a3ba\",\n                \"#eac763\",\n                \"#d94e5d\"\n            ],\n            \"opacity\": 0.8\n        },\n        \"calculable\": true,\n        \"inverse\": true,\n        \"splitNumber\": 5,\n        \"hoverLink\": true,\n        \"orient\": \"vertical\",\n        \"padding\": 5,\n        \"showLabel\": true,\n        \"itemWidth\": 20,\n        \"itemHeight\": 14,\n        \"borderWidth\": 0\n    }\n};\n        chart_b99fc3436f1245989f3937a99c2fd177.setOption(option_b99fc3436f1245989f3937a99c2fd177);\n    </script>\n</body>\n</html>\n"
     },
     "metadata": {},
     "output_type": "display_data"
    }
   ],
   "source": [
    "c = (\n",
    "    Bar(\n",
    "        init_opts=opts.InitOpts(\n",
    "            width='700px',\n",
    "            height='400px',\n",
    "            renderer=RenderType.CANVAS,  # 渲染风格：可选：canvas，svg\n",
    "            page_title='网页标题',\n",
    "            theme=ThemeType.LIGHT,  # 主题\n",
    "            bg_color='white'  # 背景颜色\n",
    "        )\n",
    "    )\n",
    "    .add_xaxis(Faker.choose())\n",
    "    .add_yaxis('商家A', Faker.values())\n",
    "    .add_yaxis('商家B', Faker.values())\n",
    "    .set_global_opts(  # 去除网格背景\n",
    "        yaxis_opts=opts.AxisOpts(splitline_opts=opts.SplitLineOpts(is_show=False)),\n",
    "        xaxis_opts=opts.AxisOpts(splitline_opts=opts.SplitLineOpts(is_show=False))\n",
    "    )\n",
    "    .set_global_opts(\n",
    "        visualmap_opts=opts.VisualMapOpts(\n",
    "            is_show=True,\n",
    "            type_='color',  # 'color' or 'size'\n",
    "            min_=0,  # 最小值\n",
    "            max_=150,  # 最大值\n",
    "            range_opacity=0.8,  # 透明度\n",
    "            range_text=['max', 'min'],  # 两端的文本\n",
    "            # range_color=['blue', 'green', 'red'],  # 过渡颜色\n",
    "            orient='vertical',\n",
    "            is_piecewise=True,  # 是否分段\n",
    "            is_inverse=True,  # 是否翻转\n",
    "        ),\n",
    "        # 提示框配置项\n",
    "        tooltip_opts=opts.TooltipOpts(\n",
    "            is_show=True,\n",
    "            # 触发类型。可选：\n",
    "            # 'item': 数据项图形触发，主要在散点图，饼图等无类目轴的图表中使用。\n",
    "            # 'axis': 坐标轴触发，主要在柱状图，折线图等会使用类目轴的图表中使用。\n",
    "            # 'none': 什么都不触发\n",
    "            trigger='axis',\n",
    "            # 提示框触发的条件，可选：\n",
    "            # 'mousemove': 鼠标移动时触发。\n",
    "            # 'click': 鼠标点击时触发。\n",
    "            # 'mousemove|click': 同时鼠标移动和点击时触发。\n",
    "            # 'none': 不在 'mousemove' 或 'click' 时触发，\n",
    "            trigger_on='mousemove|click',\n",
    "            # 标签内容格式器，支持字符串模板和回调函数两种形式，字符串模板与回调函数返回的字符串均支持用 \\n 换行。\n",
    "            # 字符串模板 模板变量有：\n",
    "            # {a}：系列名。\n",
    "            # {b}：数据名。\n",
    "            # {c}：数据值。\n",
    "            # {@xxx}：数据中名为 'xxx' 的维度的值，如 {@product} 表示名为 'product'` 的维度的值。\n",
    "            # {@[n]}：数据中维度 n 的值，如{@[3]}` 表示维度 3 的值，从 0 开始计数。\n",
    "            # 示例：formatter: '{b}: {@score}'\n",
    "            formatter='{a}:{b}-{c}',\n",
    "            border_color='white',  # 边框颜色\n",
    "            border_width=1,  # 边框宽度\n",
    "        )\n",
    "    )\n",
    ")\n",
    "display(HTML(c.render()))"
   ],
   "metadata": {
    "collapsed": false,
    "ExecuteTime": {
     "end_time": "2023-07-06T10:42:09.153670100Z",
     "start_time": "2023-07-06T10:42:09.137674200Z"
    }
   }
  },
  {
   "cell_type": "code",
   "execution_count": null,
   "outputs": [],
   "source": [],
   "metadata": {
    "collapsed": false
   }
  }
 ],
 "metadata": {
  "kernelspec": {
   "name": "math",
   "language": "python",
   "display_name": "math"
  },
  "language_info": {
   "codemirror_mode": {
    "name": "ipython",
    "version": 2
   },
   "file_extension": ".py",
   "mimetype": "text/x-python",
   "name": "python",
   "nbconvert_exporter": "python",
   "pygments_lexer": "ipython2",
   "version": "2.7.6"
  }
 },
 "nbformat": 4,
 "nbformat_minor": 0
}
